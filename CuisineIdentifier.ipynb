{
 "cells": [
  {
   "cell_type": "code",
   "execution_count": 1,
   "metadata": {},
   "outputs": [
    {
     "name": "stderr",
     "output_type": "stream",
     "text": [
      "c:\\users\\koki\\appdata\\local\\programs\\python\\python36\\lib\\site-packages\\h5py\\__init__.py:36: FutureWarning: Conversion of the second argument of issubdtype from `float` to `np.floating` is deprecated. In future, it will be treated as `np.float64 == np.dtype(float).type`.\n",
      "  from ._conv import register_converters as _register_converters\n",
      "Using TensorFlow backend.\n"
     ]
    }
   ],
   "source": [
    "import json\n",
    "import csv\n",
    "import keras \n",
    "import numpy as np\n",
    "import pandas as pd\n",
    "from keras.preprocessing.text import Tokenizer\n",
    "from keras.layers import Dense\n",
    "from keras.preprocessing.sequence import pad_sequences\n",
    "from keras.layers import Input, Dense, Dropout, Embedding, Flatten\n",
    "from keras.models import Model\n",
    "from keras.utils import to_categorical\n",
    "from keras.callbacks import ModelCheckpoint\n",
    "from keras import regularizers\n",
    "import seaborn as sns\n",
    "from sklearn.model_selection import train_test_split\n",
    "from sklearn.metrics import accuracy_score\n",
    "\n",
    "\n",
    "%matplotlib inline\n"
   ]
  },
  {
   "cell_type": "code",
   "execution_count": 2,
   "metadata": {},
   "outputs": [],
   "source": [
    "f = open(\"train/train.json\") # Loading the the training dataset\n",
    "data = json.load(f)\n",
    "f.close()\n",
    "type(data) \n",
    "\n",
    "x = open(\"train.csv\", 'w+') # Transforming train.json into a csv file\n",
    "fields = (\"id\", \"cuisine\", \"ingredients\") \n",
    "wr = csv.DictWriter(x, fieldnames=fields, lineterminator='\\n')\n",
    "wr.writeheader()\n",
    "for cases in data:\n",
    "    wr.writerow({\"id\": cases['id'], \"cuisine\": cases['cuisine'], \"ingredients\": cases['ingredients']})\n",
    "\n",
    "x.close()"
   ]
  },
  {
   "cell_type": "code",
   "execution_count": 3,
   "metadata": {},
   "outputs": [
    {
     "data": {
      "text/html": [
       "<div>\n",
       "<style scoped>\n",
       "    .dataframe tbody tr th:only-of-type {\n",
       "        vertical-align: middle;\n",
       "    }\n",
       "\n",
       "    .dataframe tbody tr th {\n",
       "        vertical-align: top;\n",
       "    }\n",
       "\n",
       "    .dataframe thead th {\n",
       "        text-align: right;\n",
       "    }\n",
       "</style>\n",
       "<table border=\"1\" class=\"dataframe\">\n",
       "  <thead>\n",
       "    <tr style=\"text-align: right;\">\n",
       "      <th></th>\n",
       "      <th>id</th>\n",
       "      <th>cuisine</th>\n",
       "      <th>ingredients</th>\n",
       "    </tr>\n",
       "  </thead>\n",
       "  <tbody>\n",
       "    <tr>\n",
       "      <th>0</th>\n",
       "      <td>10259</td>\n",
       "      <td>greek</td>\n",
       "      <td>['romaine lettuce', 'black olives', 'grape tom...</td>\n",
       "    </tr>\n",
       "    <tr>\n",
       "      <th>1</th>\n",
       "      <td>25693</td>\n",
       "      <td>southern_us</td>\n",
       "      <td>['plain flour', 'ground pepper', 'salt', 'toma...</td>\n",
       "    </tr>\n",
       "    <tr>\n",
       "      <th>2</th>\n",
       "      <td>20130</td>\n",
       "      <td>filipino</td>\n",
       "      <td>['eggs', 'pepper', 'salt', 'mayonaise', 'cooki...</td>\n",
       "    </tr>\n",
       "    <tr>\n",
       "      <th>3</th>\n",
       "      <td>22213</td>\n",
       "      <td>indian</td>\n",
       "      <td>['water', 'vegetable oil', 'wheat', 'salt']</td>\n",
       "    </tr>\n",
       "    <tr>\n",
       "      <th>4</th>\n",
       "      <td>13162</td>\n",
       "      <td>indian</td>\n",
       "      <td>['black pepper', 'shallots', 'cornflour', 'cay...</td>\n",
       "    </tr>\n",
       "    <tr>\n",
       "      <th>5</th>\n",
       "      <td>6602</td>\n",
       "      <td>jamaican</td>\n",
       "      <td>['plain flour', 'sugar', 'butter', 'eggs', 'fr...</td>\n",
       "    </tr>\n",
       "    <tr>\n",
       "      <th>6</th>\n",
       "      <td>42779</td>\n",
       "      <td>spanish</td>\n",
       "      <td>['olive oil', 'salt', 'medium shrimp', 'pepper...</td>\n",
       "    </tr>\n",
       "    <tr>\n",
       "      <th>7</th>\n",
       "      <td>3735</td>\n",
       "      <td>italian</td>\n",
       "      <td>['sugar', 'pistachio nuts', 'white almond bark...</td>\n",
       "    </tr>\n",
       "    <tr>\n",
       "      <th>8</th>\n",
       "      <td>16903</td>\n",
       "      <td>mexican</td>\n",
       "      <td>['olive oil', 'purple onion', 'fresh pineapple...</td>\n",
       "    </tr>\n",
       "    <tr>\n",
       "      <th>9</th>\n",
       "      <td>12734</td>\n",
       "      <td>italian</td>\n",
       "      <td>['chopped tomatoes', 'fresh basil', 'garlic', ...</td>\n",
       "    </tr>\n",
       "  </tbody>\n",
       "</table>\n",
       "</div>"
      ],
      "text/plain": [
       "      id      cuisine                                        ingredients\n",
       "0  10259        greek  ['romaine lettuce', 'black olives', 'grape tom...\n",
       "1  25693  southern_us  ['plain flour', 'ground pepper', 'salt', 'toma...\n",
       "2  20130     filipino  ['eggs', 'pepper', 'salt', 'mayonaise', 'cooki...\n",
       "3  22213       indian        ['water', 'vegetable oil', 'wheat', 'salt']\n",
       "4  13162       indian  ['black pepper', 'shallots', 'cornflour', 'cay...\n",
       "5   6602     jamaican  ['plain flour', 'sugar', 'butter', 'eggs', 'fr...\n",
       "6  42779      spanish  ['olive oil', 'salt', 'medium shrimp', 'pepper...\n",
       "7   3735      italian  ['sugar', 'pistachio nuts', 'white almond bark...\n",
       "8  16903      mexican  ['olive oil', 'purple onion', 'fresh pineapple...\n",
       "9  12734      italian  ['chopped tomatoes', 'fresh basil', 'garlic', ..."
      ]
     },
     "execution_count": 3,
     "metadata": {},
     "output_type": "execute_result"
    }
   ],
   "source": [
    "data = pd.read_csv('train.csv', encoding='latin-1')  # Processing the csv file\n",
    "data.head(n=10)"
   ]
  },
  {
   "cell_type": "code",
   "execution_count": 4,
   "metadata": {},
   "outputs": [
    {
     "data": {
      "text/plain": [
       "italian         7838\n",
       "mexican         6438\n",
       "southern_us     4320\n",
       "indian          3003\n",
       "chinese         2673\n",
       "french          2646\n",
       "cajun_creole    1546\n",
       "thai            1539\n",
       "japanese        1423\n",
       "greek           1175\n",
       "spanish          989\n",
       "korean           830\n",
       "vietnamese       825\n",
       "moroccan         821\n",
       "british          804\n",
       "filipino         755\n",
       "irish            667\n",
       "jamaican         526\n",
       "russian          489\n",
       "brazilian        467\n",
       "Name: cuisine, dtype: int64"
      ]
     },
     "execution_count": 4,
     "metadata": {},
     "output_type": "execute_result"
    }
   ],
   "source": [
    "data.cuisine.value_counts() #number of recipes for each nationality in the dataset"
   ]
  },
  {
   "cell_type": "code",
   "execution_count": 5,
   "metadata": {},
   "outputs": [
    {
     "data": {
      "text/html": [
       "<div>\n",
       "<style scoped>\n",
       "    .dataframe tbody tr th:only-of-type {\n",
       "        vertical-align: middle;\n",
       "    }\n",
       "\n",
       "    .dataframe tbody tr th {\n",
       "        vertical-align: top;\n",
       "    }\n",
       "\n",
       "    .dataframe thead th {\n",
       "        text-align: right;\n",
       "    }\n",
       "</style>\n",
       "<table border=\"1\" class=\"dataframe\">\n",
       "  <thead>\n",
       "    <tr style=\"text-align: right;\">\n",
       "      <th></th>\n",
       "      <th>id</th>\n",
       "      <th>cuisine</th>\n",
       "      <th>ingredients</th>\n",
       "      <th>target</th>\n",
       "    </tr>\n",
       "  </thead>\n",
       "  <tbody>\n",
       "    <tr>\n",
       "      <th>0</th>\n",
       "      <td>10259</td>\n",
       "      <td>greek</td>\n",
       "      <td>['romaine lettuce', 'black olives', 'grape tom...</td>\n",
       "      <td>6</td>\n",
       "    </tr>\n",
       "    <tr>\n",
       "      <th>1</th>\n",
       "      <td>25693</td>\n",
       "      <td>southern_us</td>\n",
       "      <td>['plain flour', 'ground pepper', 'salt', 'toma...</td>\n",
       "      <td>16</td>\n",
       "    </tr>\n",
       "    <tr>\n",
       "      <th>2</th>\n",
       "      <td>20130</td>\n",
       "      <td>filipino</td>\n",
       "      <td>['eggs', 'pepper', 'salt', 'mayonaise', 'cooki...</td>\n",
       "      <td>4</td>\n",
       "    </tr>\n",
       "    <tr>\n",
       "      <th>3</th>\n",
       "      <td>22213</td>\n",
       "      <td>indian</td>\n",
       "      <td>['water', 'vegetable oil', 'wheat', 'salt']</td>\n",
       "      <td>7</td>\n",
       "    </tr>\n",
       "    <tr>\n",
       "      <th>4</th>\n",
       "      <td>13162</td>\n",
       "      <td>indian</td>\n",
       "      <td>['black pepper', 'shallots', 'cornflour', 'cay...</td>\n",
       "      <td>7</td>\n",
       "    </tr>\n",
       "    <tr>\n",
       "      <th>5</th>\n",
       "      <td>6602</td>\n",
       "      <td>jamaican</td>\n",
       "      <td>['plain flour', 'sugar', 'butter', 'eggs', 'fr...</td>\n",
       "      <td>10</td>\n",
       "    </tr>\n",
       "    <tr>\n",
       "      <th>6</th>\n",
       "      <td>42779</td>\n",
       "      <td>spanish</td>\n",
       "      <td>['olive oil', 'salt', 'medium shrimp', 'pepper...</td>\n",
       "      <td>17</td>\n",
       "    </tr>\n",
       "    <tr>\n",
       "      <th>7</th>\n",
       "      <td>3735</td>\n",
       "      <td>italian</td>\n",
       "      <td>['sugar', 'pistachio nuts', 'white almond bark...</td>\n",
       "      <td>9</td>\n",
       "    </tr>\n",
       "    <tr>\n",
       "      <th>8</th>\n",
       "      <td>16903</td>\n",
       "      <td>mexican</td>\n",
       "      <td>['olive oil', 'purple onion', 'fresh pineapple...</td>\n",
       "      <td>13</td>\n",
       "    </tr>\n",
       "    <tr>\n",
       "      <th>9</th>\n",
       "      <td>12734</td>\n",
       "      <td>italian</td>\n",
       "      <td>['chopped tomatoes', 'fresh basil', 'garlic', ...</td>\n",
       "      <td>9</td>\n",
       "    </tr>\n",
       "    <tr>\n",
       "      <th>10</th>\n",
       "      <td>5875</td>\n",
       "      <td>italian</td>\n",
       "      <td>['pimentos', 'sweet pepper', 'dried oregano', ...</td>\n",
       "      <td>9</td>\n",
       "    </tr>\n",
       "    <tr>\n",
       "      <th>11</th>\n",
       "      <td>45887</td>\n",
       "      <td>chinese</td>\n",
       "      <td>['low sodium soy sauce', 'fresh ginger', 'dry ...</td>\n",
       "      <td>3</td>\n",
       "    </tr>\n",
       "    <tr>\n",
       "      <th>12</th>\n",
       "      <td>2698</td>\n",
       "      <td>italian</td>\n",
       "      <td>['Italian parsley leaves', 'walnuts', 'hot red...</td>\n",
       "      <td>9</td>\n",
       "    </tr>\n",
       "    <tr>\n",
       "      <th>13</th>\n",
       "      <td>41995</td>\n",
       "      <td>mexican</td>\n",
       "      <td>['ground cinnamon', 'fresh cilantro', 'chili p...</td>\n",
       "      <td>13</td>\n",
       "    </tr>\n",
       "    <tr>\n",
       "      <th>14</th>\n",
       "      <td>31908</td>\n",
       "      <td>italian</td>\n",
       "      <td>['fresh parmesan cheese', 'butter', 'all-purpo...</td>\n",
       "      <td>9</td>\n",
       "    </tr>\n",
       "    <tr>\n",
       "      <th>15</th>\n",
       "      <td>24717</td>\n",
       "      <td>indian</td>\n",
       "      <td>['tumeric', 'vegetable stock', 'tomatoes', 'ga...</td>\n",
       "      <td>7</td>\n",
       "    </tr>\n",
       "    <tr>\n",
       "      <th>16</th>\n",
       "      <td>34466</td>\n",
       "      <td>british</td>\n",
       "      <td>['greek yogurt', 'lemon curd', 'confectioners ...</td>\n",
       "      <td>1</td>\n",
       "    </tr>\n",
       "    <tr>\n",
       "      <th>17</th>\n",
       "      <td>1420</td>\n",
       "      <td>italian</td>\n",
       "      <td>['italian seasoning', 'broiler-fryer chicken',...</td>\n",
       "      <td>9</td>\n",
       "    </tr>\n",
       "    <tr>\n",
       "      <th>18</th>\n",
       "      <td>2941</td>\n",
       "      <td>thai</td>\n",
       "      <td>['sugar', 'hot chili', 'asian fish sauce', 'li...</td>\n",
       "      <td>18</td>\n",
       "    </tr>\n",
       "    <tr>\n",
       "      <th>19</th>\n",
       "      <td>8152</td>\n",
       "      <td>vietnamese</td>\n",
       "      <td>['soy sauce', 'vegetable oil', 'red bell peppe...</td>\n",
       "      <td>19</td>\n",
       "    </tr>\n",
       "  </tbody>\n",
       "</table>\n",
       "</div>"
      ],
      "text/plain": [
       "       id      cuisine                                        ingredients  \\\n",
       "0   10259        greek  ['romaine lettuce', 'black olives', 'grape tom...   \n",
       "1   25693  southern_us  ['plain flour', 'ground pepper', 'salt', 'toma...   \n",
       "2   20130     filipino  ['eggs', 'pepper', 'salt', 'mayonaise', 'cooki...   \n",
       "3   22213       indian        ['water', 'vegetable oil', 'wheat', 'salt']   \n",
       "4   13162       indian  ['black pepper', 'shallots', 'cornflour', 'cay...   \n",
       "5    6602     jamaican  ['plain flour', 'sugar', 'butter', 'eggs', 'fr...   \n",
       "6   42779      spanish  ['olive oil', 'salt', 'medium shrimp', 'pepper...   \n",
       "7    3735      italian  ['sugar', 'pistachio nuts', 'white almond bark...   \n",
       "8   16903      mexican  ['olive oil', 'purple onion', 'fresh pineapple...   \n",
       "9   12734      italian  ['chopped tomatoes', 'fresh basil', 'garlic', ...   \n",
       "10   5875      italian  ['pimentos', 'sweet pepper', 'dried oregano', ...   \n",
       "11  45887      chinese  ['low sodium soy sauce', 'fresh ginger', 'dry ...   \n",
       "12   2698      italian  ['Italian parsley leaves', 'walnuts', 'hot red...   \n",
       "13  41995      mexican  ['ground cinnamon', 'fresh cilantro', 'chili p...   \n",
       "14  31908      italian  ['fresh parmesan cheese', 'butter', 'all-purpo...   \n",
       "15  24717       indian  ['tumeric', 'vegetable stock', 'tomatoes', 'ga...   \n",
       "16  34466      british  ['greek yogurt', 'lemon curd', 'confectioners ...   \n",
       "17   1420      italian  ['italian seasoning', 'broiler-fryer chicken',...   \n",
       "18   2941         thai  ['sugar', 'hot chili', 'asian fish sauce', 'li...   \n",
       "19   8152   vietnamese  ['soy sauce', 'vegetable oil', 'red bell peppe...   \n",
       "\n",
       "    target  \n",
       "0        6  \n",
       "1       16  \n",
       "2        4  \n",
       "3        7  \n",
       "4        7  \n",
       "5       10  \n",
       "6       17  \n",
       "7        9  \n",
       "8       13  \n",
       "9        9  \n",
       "10       9  \n",
       "11       3  \n",
       "12       9  \n",
       "13      13  \n",
       "14       9  \n",
       "15       7  \n",
       "16       1  \n",
       "17       9  \n",
       "18      18  \n",
       "19      19  "
      ]
     },
     "execution_count": 5,
     "metadata": {},
     "output_type": "execute_result"
    }
   ],
   "source": [
    "data['target'] = data.cuisine.astype('category').cat.codes #assigning a number to each nationality(target)/ assalphabetical order\n",
    "data.head(n=20)"
   ]
  },
  {
   "cell_type": "code",
   "execution_count": 6,
   "metadata": {},
   "outputs": [],
   "source": [
    "num_class = len(np.unique(data.cuisine.values)) # Number of all the different nationalities\n",
    "y = data['target'].values"
   ]
  },
  {
   "cell_type": "code",
   "execution_count": 7,
   "metadata": {},
   "outputs": [],
   "source": [
    "maxLength = 150\n",
    "tokenizer = Tokenizer() # vectorize the text corpus - turning each text into a sequence of integers\n",
    "tokenizer.fit_on_texts(data.ingredients.values)\n",
    "post_seq = tokenizer.texts_to_sequences(data.ingredients.values)\n",
    "post_seq_padded = pad_sequences(post_seq, maxlen=maxLength) # Pads sequences to the same length(maxLength)"
   ]
  },
  {
   "cell_type": "code",
   "execution_count": 8,
   "metadata": {},
   "outputs": [],
   "source": [
    "X_train, X_test, y_train, y_test = train_test_split(post_seq_padded, y, test_size=0.1) #Split the data into training and validation data"
   ]
  },
  {
   "cell_type": "code",
   "execution_count": 9,
   "metadata": {},
   "outputs": [
    {
     "name": "stdout",
     "output_type": "stream",
     "text": [
      "4732\n"
     ]
    }
   ],
   "source": [
    "vocab_size = len(tokenizer.word_index) + 1 #Number of all the ingredients\n",
    "print(vocab_size)"
   ]
  },
  {
   "cell_type": "code",
   "execution_count": 10,
   "metadata": {},
   "outputs": [
    {
     "name": "stdout",
     "output_type": "stream",
     "text": [
      "_________________________________________________________________\n",
      "Layer (type)                 Output Shape              Param #   \n",
      "=================================================================\n",
      "input_1 (InputLayer)         (None, 150)               0         \n",
      "_________________________________________________________________\n",
      "embedding_1 (Embedding)      (None, 150, 64)           302848    \n",
      "_________________________________________________________________\n",
      "dropout_1 (Dropout)          (None, 150, 64)           0         \n",
      "_________________________________________________________________\n",
      "flatten_1 (Flatten)          (None, 9600)              0         \n",
      "_________________________________________________________________\n",
      "dense_1 (Dense)              (None, 96)                921696    \n",
      "_________________________________________________________________\n",
      "dense_2 (Dense)              (None, 20)                1940      \n",
      "=================================================================\n",
      "Total params: 1,226,484\n",
      "Trainable params: 1,226,484\n",
      "Non-trainable params: 0\n",
      "_________________________________________________________________\n",
      "Train on 28636 samples, validate on 7160 samples\n",
      "Epoch 1/25\n",
      "28636/28636 [==============================] - 7s 244us/step - loss: 2.3297 - acc: 0.4028 - val_loss: 1.7682 - val_acc: 0.5563\n",
      "\n",
      "Epoch 00001: val_acc improved from -inf to 0.55628, saving model to weights.hdf5\n",
      "Epoch 2/25\n",
      "28636/28636 [==============================] - 3s 120us/step - loss: 1.6015 - acc: 0.5926 - val_loss: 1.4924 - val_acc: 0.6198\n",
      "\n",
      "Epoch 00002: val_acc improved from 0.55628 to 0.61983, saving model to weights.hdf5\n",
      "Epoch 3/25\n",
      "28636/28636 [==============================] - 3s 120us/step - loss: 1.3947 - acc: 0.6474 - val_loss: 1.3512 - val_acc: 0.6539\n",
      "\n",
      "Epoch 00003: val_acc improved from 0.61983 to 0.65391, saving model to weights.hdf5\n",
      "Epoch 4/25\n",
      "28636/28636 [==============================] - 3s 117us/step - loss: 1.2748 - acc: 0.6728 - val_loss: 1.2656 - val_acc: 0.6760\n",
      "\n",
      "Epoch 00004: val_acc improved from 0.65391 to 0.67598, saving model to weights.hdf5\n",
      "Epoch 5/25\n",
      "28636/28636 [==============================] - 3s 120us/step - loss: 1.1936 - acc: 0.6909 - val_loss: 1.2167 - val_acc: 0.6865\n",
      "\n",
      "Epoch 00005: val_acc improved from 0.67598 to 0.68645, saving model to weights.hdf5\n",
      "Epoch 6/25\n",
      "28636/28636 [==============================] - 3s 121us/step - loss: 1.1366 - acc: 0.7066 - val_loss: 1.1708 - val_acc: 0.6969\n",
      "\n",
      "Epoch 00006: val_acc improved from 0.68645 to 0.69693, saving model to weights.hdf5\n",
      "Epoch 7/25\n",
      "28636/28636 [==============================] - 3s 120us/step - loss: 1.0925 - acc: 0.7190 - val_loss: 1.1476 - val_acc: 0.7045\n",
      "\n",
      "Epoch 00007: val_acc improved from 0.69693 to 0.70447, saving model to weights.hdf5\n",
      "Epoch 8/25\n",
      "28636/28636 [==============================] - 3s 118us/step - loss: 1.0542 - acc: 0.7302 - val_loss: 1.1315 - val_acc: 0.7081\n",
      "\n",
      "Epoch 00008: val_acc improved from 0.70447 to 0.70810, saving model to weights.hdf5\n",
      "Epoch 9/25\n",
      "28636/28636 [==============================] - 3s 119us/step - loss: 1.0219 - acc: 0.7422 - val_loss: 1.1047 - val_acc: 0.7169\n",
      "\n",
      "Epoch 00009: val_acc improved from 0.70810 to 0.71690, saving model to weights.hdf5\n",
      "Epoch 10/25\n",
      "28636/28636 [==============================] - 3s 122us/step - loss: 0.9923 - acc: 0.7503 - val_loss: 1.0866 - val_acc: 0.7226\n",
      "\n",
      "Epoch 00010: val_acc improved from 0.71690 to 0.72263, saving model to weights.hdf5\n",
      "Epoch 11/25\n",
      "28636/28636 [==============================] - 3s 118us/step - loss: 0.9701 - acc: 0.7596 - val_loss: 1.0786 - val_acc: 0.7282\n",
      "\n",
      "Epoch 00011: val_acc improved from 0.72263 to 0.72821, saving model to weights.hdf5\n",
      "Epoch 12/25\n",
      "28636/28636 [==============================] - 3s 120us/step - loss: 0.9473 - acc: 0.7678 - val_loss: 1.0766 - val_acc: 0.7270\n",
      "\n",
      "Epoch 00012: val_acc did not improve from 0.72821\n",
      "Epoch 13/25\n",
      "28636/28636 [==============================] - 3s 121us/step - loss: 0.9182 - acc: 0.7767 - val_loss: 1.0885 - val_acc: 0.7229\n",
      "\n",
      "Epoch 00013: val_acc did not improve from 0.72821\n",
      "Epoch 14/25\n",
      "28636/28636 [==============================] - 3s 118us/step - loss: 0.8942 - acc: 0.7832 - val_loss: 1.0776 - val_acc: 0.7304\n",
      "\n",
      "Epoch 00014: val_acc improved from 0.72821 to 0.73045, saving model to weights.hdf5\n",
      "Epoch 15/25\n",
      "28636/28636 [==============================] - 4s 127us/step - loss: 0.8733 - acc: 0.7918 - val_loss: 1.0574 - val_acc: 0.7323\n",
      "\n",
      "Epoch 00015: val_acc improved from 0.73045 to 0.73226, saving model to weights.hdf5\n",
      "Epoch 16/25\n",
      "28636/28636 [==============================] - 4s 132us/step - loss: 0.8570 - acc: 0.7980 - val_loss: 1.0611 - val_acc: 0.7359\n",
      "\n",
      "Epoch 00016: val_acc improved from 0.73226 to 0.73589, saving model to weights.hdf5\n",
      "Epoch 17/25\n",
      "28636/28636 [==============================] - 4s 141us/step - loss: 0.8338 - acc: 0.8074 - val_loss: 1.0672 - val_acc: 0.7348\n",
      "\n",
      "Epoch 00017: val_acc did not improve from 0.73589\n",
      "Epoch 18/25\n",
      "28636/28636 [==============================] - 4s 141us/step - loss: 0.8130 - acc: 0.8124 - val_loss: 1.0575 - val_acc: 0.7374\n",
      "\n",
      "Epoch 00018: val_acc improved from 0.73589 to 0.73743, saving model to weights.hdf5\n",
      "Epoch 19/25\n",
      "28636/28636 [==============================] - 4s 145us/step - loss: 0.7990 - acc: 0.8196 - val_loss: 1.0802 - val_acc: 0.7318\n",
      "\n",
      "Epoch 00019: val_acc did not improve from 0.73743\n",
      "Epoch 20/25\n",
      "28636/28636 [==============================] - 4s 143us/step - loss: 0.7765 - acc: 0.8246 - val_loss: 1.0817 - val_acc: 0.7359\n",
      "\n",
      "Epoch 00020: val_acc did not improve from 0.73743\n",
      "Epoch 21/25\n",
      "28636/28636 [==============================] - 4s 140us/step - loss: 0.7577 - acc: 0.8319 - val_loss: 1.0680 - val_acc: 0.7356\n",
      "\n",
      "Epoch 00021: val_acc did not improve from 0.73743\n",
      "Epoch 22/25\n",
      "28636/28636 [==============================] - 4s 139us/step - loss: 0.7394 - acc: 0.8382 - val_loss: 1.1010 - val_acc: 0.7324\n",
      "\n",
      "Epoch 00022: val_acc did not improve from 0.73743\n",
      "Epoch 23/25\n",
      "28636/28636 [==============================] - 4s 139us/step - loss: 0.7233 - acc: 0.8440 - val_loss: 1.0996 - val_acc: 0.7324\n",
      "\n",
      "Epoch 00023: val_acc did not improve from 0.73743\n",
      "Epoch 24/25\n",
      "28636/28636 [==============================] - 4s 139us/step - loss: 0.7072 - acc: 0.8491 - val_loss: 1.1134 - val_acc: 0.7339\n",
      "\n",
      "Epoch 00024: val_acc did not improve from 0.73743\n",
      "Epoch 25/25\n",
      "28636/28636 [==============================] - 4s 139us/step - loss: 0.6879 - acc: 0.8568 - val_loss: 1.1009 - val_acc: 0.7356\n",
      "\n",
      "Epoch 00025: val_acc did not improve from 0.73743\n"
     ]
    }
   ],
   "source": [
    "inputs = Input(shape=(maxLength, ))\n",
    "embedding_layer = Embedding(vocab_size,64,input_length=maxLength)(inputs) #Turns positive integers (indexes) into dense vectors of fixed size\n",
    "x = Dropout(0.2)(embedding_layer) #Applies dropout to the input / helps prevent overfitting\n",
    "x = Flatten()(x) #Flattens the input \n",
    "x = Dense(96, activation='relu',kernel_regularizer=regularizers.l2(0.01))(x) # regular densely-connected NN layer + l2 regularization\n",
    "predictions = Dense(num_class, activation='softmax')(x) # using softmax for  multiclass classification\n",
    "\n",
    "\n",
    "\n",
    "model = Model(inputs=[inputs], outputs=predictions) \n",
    "model.compile(optimizer='adam', loss='categorical_crossentropy', metrics=['acc'])\n",
    "\n",
    "model.summary()\n",
    "filepath=\"weights.hdf5\"\n",
    "checkpointer = ModelCheckpoint(filepath, monitor='val_acc', verbose=1,save_best_only=True, mode='max') #Save the model after every epoch\n",
    "history = model.fit([X_train], batch_size=128, y=to_categorical(y_train), verbose=1, validation_split=0.2, \n",
    "          shuffle=True, epochs=25, callbacks=[checkpointer])"
   ]
  },
  {
   "cell_type": "code",
   "execution_count": 11,
   "metadata": {},
   "outputs": [
    {
     "data": {
      "image/png": "[encoded data removed]",
      "text/plain": [
       "<matplotlib.figure.Figure at 0xbb60919a20>"
      ]
     },
     "metadata": {},
     "output_type": "display_data"
    }
   ],
   "source": [
    "df = pd.DataFrame({'epochs':history.epoch, 'accuracy': history.history['acc'], 'validation_accuracy': history.history['val_acc']})\n",
    "g = sns.pointplot(x=\"epochs\", y=\"accuracy\", data=df, fit_reg=False)\n",
    "g = sns.pointplot(x=\"epochs\", y=\"validation_accuracy\", data=df, fit_reg=False, color='green')\n",
    "# Visualising training and validation accuracy helps detecting overfitting and/or underfitting"
   ]
  },
  {
   "cell_type": "code",
   "execution_count": 12,
   "metadata": {},
   "outputs": [
    {
     "data": {
      "text/plain": [
       "0.7332830568124685"
      ]
     },
     "execution_count": 12,
     "metadata": {},
     "output_type": "execute_result"
    }
   ],
   "source": [
    "predicted = model.predict(X_test)\n",
    "predicted = np.argmax(predicted, axis=1)\n",
    "accuracy_score(y_test, predicted)"
   ]
  },
  {
   "cell_type": "code",
   "execution_count": 13,
   "metadata": {},
   "outputs": [],
   "source": [
    "model.load_weights('weights.hdf5')\n",
    "predicted = model.predict(X_test)"
   ]
  },
  {
   "cell_type": "code",
   "execution_count": 14,
   "metadata": {
    "scrolled": true
   },
   "outputs": [
    {
     "data": {
      "text/plain": [
       "array([[5.6484849e-05, 3.2134396e-06, 9.8431420e-01, ..., 4.5943148e-03,\n",
       "        1.5111653e-05, 2.1367491e-06],\n",
       "       [1.4416651e-04, 8.6861188e-03, 1.2512771e-02, ..., 3.7588092e-04,\n",
       "        1.1966250e-06, 8.2525321e-06],\n",
       "       [4.7629490e-03, 1.9692758e-05, 2.5391722e-05, ..., 2.5689858e-03,\n",
       "        1.2519079e-02, 7.0471346e-04],\n",
       "       ...,\n",
       "       [9.7701531e-03, 2.0700980e-03, 1.9086283e-01, ..., 7.4739535e-03,\n",
       "        1.5108841e-03, 6.2164264e-03],\n",
       "       [1.4873580e-05, 1.9923558e-05, 1.8130342e-04, ..., 1.2867634e-06,\n",
       "        2.7966481e-03, 5.2342648e-03],\n",
       "       [1.7414703e-06, 7.9901014e-08, 3.2982725e-06, ..., 1.5086199e-04,\n",
       "        8.1073871e-08, 7.0301027e-08]], dtype=float32)"
      ]
     },
     "execution_count": 14,
     "metadata": {},
     "output_type": "execute_result"
    }
   ],
   "source": [
    "predicted #Softmax output - each nationality's score(20), the nationality with the highest score is assigned to the recipe"
   ]
  },
  {
   "cell_type": "code",
   "execution_count": 15,
   "metadata": {},
   "outputs": [],
   "source": [
    "targets_cuisines={0:'brazilian',1:'british',2:'cajun_creole',3:'chinese',4:'filipino',5:'french',6:'greek',7:'indian',\n",
    "                 8:'irish',9:'italian',10:'jamaican',11:'japanese',12:'korean',13:'mexican',14:'maroccan',15:'russian',\n",
    "                 16:'southern_us',17:'spanish',18:'thai',19:'vietnamese'} #alphabetical order\n",
    "def finalPrediction(element): #Translates the softmax output into a nationality\n",
    "    k = np.array(element) \n",
    "    z = k.reshape(1,150)\n",
    "    model.predict(z)\n",
    "    prediction = np.argmax(model.predict(z)) #Returns the indices of the maximum values along an axis\n",
    "    cuisine = targets_cuisines[prediction]\n",
    "    return cuisine"
   ]
  },
  {
   "cell_type": "code",
   "execution_count": 16,
   "metadata": {},
   "outputs": [
    {
     "data": {
      "text/plain": [
       "'greek'"
      ]
     },
     "execution_count": 16,
     "metadata": {},
     "output_type": "execute_result"
    }
   ],
   "source": [
    "# post_seq_padded contains only examples from train.json \n",
    "finalPrediction(post_seq_padded[0]) # 1th element in the dataset, cuisine = greek"
   ]
  },
  {
   "cell_type": "code",
   "execution_count": 17,
   "metadata": {},
   "outputs": [
    {
     "data": {
      "text/plain": [
       "'indian'"
      ]
     },
     "execution_count": 17,
     "metadata": {},
     "output_type": "execute_result"
    }
   ],
   "source": [
    "finalPrediction(post_seq_padded[3])# 4th element in the dataset, cuisine = India"
   ]
  },
  {
   "cell_type": "code",
   "execution_count": 18,
   "metadata": {},
   "outputs": [
    {
     "data": {
      "text/plain": [
       "'indian'"
      ]
     },
     "execution_count": 18,
     "metadata": {},
     "output_type": "execute_result"
    }
   ],
   "source": [
    "finalPrediction(post_seq_padded[4]) # 5th element in the dataset, cuisine = India"
   ]
  },
  {
   "cell_type": "code",
   "execution_count": 19,
   "metadata": {},
   "outputs": [],
   "source": [
    "f = open(\"test/test.json\") # Loading the test dataset\n",
    "data = json.load(f)\n",
    "f.close()\n",
    "type(data)\n",
    "\n",
    "x = open(\"test.csv\", 'w+') # Converting it into a csv file\n",
    "fields = (\"id\", \"ingredients\")\n",
    "wr = csv.DictWriter(x, fieldnames=fields, lineterminator='\\n')\n",
    "wr.writeheader()\n",
    "for cases in data:\n",
    "    wr.writerow({\"id\": cases['id'], \"ingredients\": cases['ingredients']})\n",
    "\n",
    "x.close()"
   ]
  },
  {
   "cell_type": "code",
   "execution_count": 20,
   "metadata": {},
   "outputs": [
    {
     "data": {
      "text/html": [
       "<div>\n",
       "<style scoped>\n",
       "    .dataframe tbody tr th:only-of-type {\n",
       "        vertical-align: middle;\n",
       "    }\n",
       "\n",
       "    .dataframe tbody tr th {\n",
       "        vertical-align: top;\n",
       "    }\n",
       "\n",
       "    .dataframe thead th {\n",
       "        text-align: right;\n",
       "    }\n",
       "</style>\n",
       "<table border=\"1\" class=\"dataframe\">\n",
       "  <thead>\n",
       "    <tr style=\"text-align: right;\">\n",
       "      <th></th>\n",
       "      <th>id</th>\n",
       "      <th>ingredients</th>\n",
       "    </tr>\n",
       "  </thead>\n",
       "  <tbody>\n",
       "    <tr>\n",
       "      <th>0</th>\n",
       "      <td>18009</td>\n",
       "      <td>['baking powder', 'eggs', 'all-purpose flour',...</td>\n",
       "    </tr>\n",
       "    <tr>\n",
       "      <th>1</th>\n",
       "      <td>28583</td>\n",
       "      <td>['sugar', 'egg yolks', 'corn starch', 'cream o...</td>\n",
       "    </tr>\n",
       "    <tr>\n",
       "      <th>2</th>\n",
       "      <td>41580</td>\n",
       "      <td>['sausage links', 'fennel bulb', 'fronds', 'ol...</td>\n",
       "    </tr>\n",
       "    <tr>\n",
       "      <th>3</th>\n",
       "      <td>29752</td>\n",
       "      <td>['meat cuts', 'file powder', 'smoked sausage',...</td>\n",
       "    </tr>\n",
       "    <tr>\n",
       "      <th>4</th>\n",
       "      <td>35687</td>\n",
       "      <td>['ground black pepper', 'salt', 'sausage casin...</td>\n",
       "    </tr>\n",
       "  </tbody>\n",
       "</table>\n",
       "</div>"
      ],
      "text/plain": [
       "      id                                        ingredients\n",
       "0  18009  ['baking powder', 'eggs', 'all-purpose flour',...\n",
       "1  28583  ['sugar', 'egg yolks', 'corn starch', 'cream o...\n",
       "2  41580  ['sausage links', 'fennel bulb', 'fronds', 'ol...\n",
       "3  29752  ['meat cuts', 'file powder', 'smoked sausage',...\n",
       "4  35687  ['ground black pepper', 'salt', 'sausage casin..."
      ]
     },
     "execution_count": 20,
     "metadata": {},
     "output_type": "execute_result"
    }
   ],
   "source": [
    "dataTest = pd.read_csv('test.csv', encoding='latin-1') #Processing test.csv\n",
    "dataTest.head()"
   ]
  },
  {
   "cell_type": "code",
   "execution_count": 21,
   "metadata": {},
   "outputs": [],
   "source": [
    "tokenizer2 = Tokenizer()\n",
    "tokenizer2.fit_on_texts(dataTest.ingredients.values)\n",
    "post_seq2 = tokenizer.texts_to_sequences(dataTest.ingredients.values)\n",
    "post_seq_padded2 = pad_sequences(post_seq2, maxlen=maxLength)"
   ]
  },
  {
   "cell_type": "code",
   "execution_count": 22,
   "metadata": {},
   "outputs": [
    {
     "data": {
      "text/plain": [
       "array([[1.4677116e-02, 9.7094044e-02, 3.9956807e-03, ..., 1.2186910e-02,\n",
       "        5.9542077e-04, 2.3903083e-03],\n",
       "       [2.1792957e-05, 2.6737629e-03, 2.8975619e-02, ..., 4.4218221e-05,\n",
       "        6.6763187e-07, 1.8295103e-05],\n",
       "       [7.9919118e-03, 1.1585818e-02, 5.6094024e-03, ..., 6.1465632e-02,\n",
       "        4.9473805e-04, 3.8763980e-04],\n",
       "       ...,\n",
       "       [3.2682656e-04, 2.3210664e-04, 1.1770212e-02, ..., 6.5284609e-03,\n",
       "        2.1984859e-05, 4.0214290e-05],\n",
       "       [1.4711107e-04, 3.4296495e-04, 1.7098458e-01, ..., 3.8553946e-04,\n",
       "        3.1877123e-06, 1.4907466e-05],\n",
       "       [1.2325410e-04, 4.3816561e-11, 2.0282904e-08, ..., 1.3247619e-06,\n",
       "        1.3835182e-06, 2.2072554e-06]], dtype=float32)"
      ]
     },
     "execution_count": 22,
     "metadata": {},
     "output_type": "execute_result"
    }
   ],
   "source": [
    "model.predict(post_seq_padded2)"
   ]
  },
  {
   "cell_type": "code",
   "execution_count": 23,
   "metadata": {},
   "outputs": [],
   "source": [
    "# Predicting nationality only using the ingredients\n",
    "# post_seq_padded2 contains all the recipes from test.json"
   ]
  },
  {
   "cell_type": "code",
   "execution_count": 24,
   "metadata": {},
   "outputs": [
    {
     "data": {
      "text/plain": [
       "'italian'"
      ]
     },
     "execution_count": 24,
     "metadata": {},
     "output_type": "execute_result"
    }
   ],
   "source": [
    "finalPrediction(post_seq_padded2[0]) # predicting the first recipe / this example varies a lot"
   ]
  },
  {
   "cell_type": "code",
   "execution_count": 25,
   "metadata": {},
   "outputs": [
    {
     "data": {
      "text/plain": [
       "'southern_us'"
      ]
     },
     "execution_count": 25,
     "metadata": {},
     "output_type": "execute_result"
    }
   ],
   "source": [
    "finalPrediction(post_seq_padded2[1]) # predicting the second recipe"
   ]
  },
  {
   "cell_type": "code",
   "execution_count": 26,
   "metadata": {},
   "outputs": [
    {
     "data": {
      "text/plain": [
       "'italian'"
      ]
     },
     "execution_count": 26,
     "metadata": {},
     "output_type": "execute_result"
    }
   ],
   "source": [
    "finalPrediction(post_seq_padded2[2]) # predicting the third recipe"
   ]
  },
  {
   "cell_type": "code",
   "execution_count": 27,
   "metadata": {},
   "outputs": [
    {
     "data": {
      "text/plain": [
       "'italian'"
      ]
     },
     "execution_count": 27,
     "metadata": {},
     "output_type": "execute_result"
    }
   ],
   "source": [
    "finalPrediction(post_seq_padded2[10]) #id: 21749 11th recipe"
   ]
  },
  {
   "cell_type": "code",
   "execution_count": 28,
   "metadata": {},
   "outputs": [
    {
     "data": {
      "text/plain": [
       "'italian'"
      ]
     },
     "execution_count": 28,
     "metadata": {},
     "output_type": "execute_result"
    }
   ],
   "source": [
    "finalPrediction(post_seq_padded2[13]) #id: 44883 14th recipe"
   ]
  }
 ],
 "metadata": {
  "kernelspec": {
   "display_name": "Python 3",
   "language": "python",
   "name": "python3"
  },
  "language_info": {
   "codemirror_mode": {
    "name": "ipython",
    "version": 3.0
   },
   "file_extension": ".py",
   "mimetype": "text/x-python",
   "name": "python",
   "nbconvert_exporter": "python",
   "pygments_lexer": "ipython3",
   "version": "3.6.2"
  }
 },
 "nbformat": 4,
 "nbformat_minor": 0
}